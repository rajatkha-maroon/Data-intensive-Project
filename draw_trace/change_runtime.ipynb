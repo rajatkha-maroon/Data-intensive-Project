{
 "cells": [
  {
   "cell_type": "code",
   "execution_count": 73,
   "id": "d8548495",
   "metadata": {},
   "outputs": [],
   "source": [
    "import os\n",
    "import sys\n",
    "import numpy as np\n",
    "\n",
    "import matplotlib.pyplot as plt\n",
    "import pandas as pd\n",
    "import matplotlib as mpl\n",
    "import matplotlib.ticker as ticker\n",
    "\n",
    "import time\n",
    "import matplotlib.dates as md\n",
    "import dateutil\n",
    "from tqdm import tqdm\n",
    "\n",
    "from pandas import DataFrame\n",
    "\n",
    "%matplotlib inline"
   ]
  },
  {
   "cell_type": "code",
   "execution_count": 74,
   "id": "59216296",
   "metadata": {},
   "outputs": [],
   "source": [
    "old_data = pd.read_csv(\"ANL-ALCF-DJC-MIRA_20150101_20151231.csv\")"
   ]
  },
  {
   "cell_type": "code",
   "execution_count": 75,
   "id": "225917a8",
   "metadata": {},
   "outputs": [],
   "source": [
    "# # clear runtime in old data\n",
    "# for i in range(0,len(old_data['RUNTIME_SECONDS'])):\n",
    "#     old_data['RUNTIME_SECONDS'][i] = str(0)"
   ]
  },
  {
   "cell_type": "code",
   "execution_count": 76,
   "id": "38757fea",
   "metadata": {},
   "outputs": [],
   "source": [
    "def Change_RunTime(old_data, sheet_name, new_file_path):\n",
    "    new_data = pd.read_excel(new_file_path, sheet_name = sheet_name)\n",
    "    new_data_num_rows = len(new_data['JOB_NAME'])\n",
    "    for i in range(0,new_data_num_rows):\n",
    "        tmp_line = old_data.loc[old_data['JOB_NAME'].isin([new_data['JOB_NAME'][i]])]\n",
    "        if(len(tmp_line) > 1):\n",
    "            print(\"Error, there are more than one job having the same name\")\n",
    "        old_data['RUNTIME_SECONDS'][tmp_line.index[0]] = new_data['New runtime'][i]\n",
    "    return old_data"
   ]
  },
  {
   "cell_type": "code",
   "execution_count": 77,
   "id": "3742c60e",
   "metadata": {},
   "outputs": [
    {
     "name": "stderr",
     "output_type": "stream",
     "text": [
      "/var/folders/ch/qkmvbw8d40d5864w96srwgpr0000gn/T/ipykernel_37658/3970842545.py:8: SettingWithCopyWarning: \n",
      "A value is trying to be set on a copy of a slice from a DataFrame\n",
      "\n",
      "See the caveats in the documentation: https://pandas.pydata.org/pandas-docs/stable/user_guide/indexing.html#returning-a-view-versus-a-copy\n",
      "  old_data['RUNTIME_SECONDS'][tmp_line.index[0]] = new_data['New runtime'][i]\n"
     ]
    }
   ],
   "source": [
    "sheet_name = \"0% <= x < 16.7%\"\n",
    "new_file_path = \"Data-intensive-Project/traces/Mira_analysis/Data overlaps - Bucket percentiles.xlsx\"\n",
    "old_data = Change_RunTime(old_data, sheet_name, new_file_path)"
   ]
  },
  {
   "cell_type": "code",
   "execution_count": 78,
   "id": "c26bef49",
   "metadata": {},
   "outputs": [
    {
     "name": "stderr",
     "output_type": "stream",
     "text": [
      "/var/folders/ch/qkmvbw8d40d5864w96srwgpr0000gn/T/ipykernel_37658/3970842545.py:8: SettingWithCopyWarning: \n",
      "A value is trying to be set on a copy of a slice from a DataFrame\n",
      "\n",
      "See the caveats in the documentation: https://pandas.pydata.org/pandas-docs/stable/user_guide/indexing.html#returning-a-view-versus-a-copy\n",
      "  old_data['RUNTIME_SECONDS'][tmp_line.index[0]] = new_data['New runtime'][i]\n"
     ]
    }
   ],
   "source": [
    "sheet_name = \"16.7% <= x < 33.3%\"\n",
    "new_file_path = \"Data-intensive-Project/traces/Mira_analysis/Data overlaps - Bucket percentiles.xlsx\"\n",
    "old_data = Change_RunTime(old_data, sheet_name, new_file_path)"
   ]
  },
  {
   "cell_type": "code",
   "execution_count": 79,
   "id": "f4772b84",
   "metadata": {},
   "outputs": [
    {
     "name": "stderr",
     "output_type": "stream",
     "text": [
      "/var/folders/ch/qkmvbw8d40d5864w96srwgpr0000gn/T/ipykernel_37658/3970842545.py:8: SettingWithCopyWarning: \n",
      "A value is trying to be set on a copy of a slice from a DataFrame\n",
      "\n",
      "See the caveats in the documentation: https://pandas.pydata.org/pandas-docs/stable/user_guide/indexing.html#returning-a-view-versus-a-copy\n",
      "  old_data['RUNTIME_SECONDS'][tmp_line.index[0]] = new_data['New runtime'][i]\n"
     ]
    }
   ],
   "source": [
    "sheet_name = \"33.3% <= x < 50.0%\"\n",
    "new_file_path = \"Data-intensive-Project/traces/Mira_analysis/Data overlaps - Bucket percentiles.xlsx\"\n",
    "old_data = Change_RunTime(old_data, sheet_name, new_file_path)"
   ]
  },
  {
   "cell_type": "code",
   "execution_count": 80,
   "id": "36173b64",
   "metadata": {},
   "outputs": [
    {
     "name": "stderr",
     "output_type": "stream",
     "text": [
      "/var/folders/ch/qkmvbw8d40d5864w96srwgpr0000gn/T/ipykernel_37658/3970842545.py:8: SettingWithCopyWarning: \n",
      "A value is trying to be set on a copy of a slice from a DataFrame\n",
      "\n",
      "See the caveats in the documentation: https://pandas.pydata.org/pandas-docs/stable/user_guide/indexing.html#returning-a-view-versus-a-copy\n",
      "  old_data['RUNTIME_SECONDS'][tmp_line.index[0]] = new_data['New runtime'][i]\n"
     ]
    }
   ],
   "source": [
    "sheet_name = \"50.0% <= x < 66.7%\"\n",
    "new_file_path = \"Data-intensive-Project/traces/Mira_analysis/Data overlaps - Bucket percentiles.xlsx\"\n",
    "old_data = Change_RunTime(old_data, sheet_name, new_file_path)"
   ]
  },
  {
   "cell_type": "code",
   "execution_count": 81,
   "id": "1810f54d",
   "metadata": {},
   "outputs": [
    {
     "name": "stderr",
     "output_type": "stream",
     "text": [
      "/var/folders/ch/qkmvbw8d40d5864w96srwgpr0000gn/T/ipykernel_37658/3970842545.py:8: SettingWithCopyWarning: \n",
      "A value is trying to be set on a copy of a slice from a DataFrame\n",
      "\n",
      "See the caveats in the documentation: https://pandas.pydata.org/pandas-docs/stable/user_guide/indexing.html#returning-a-view-versus-a-copy\n",
      "  old_data['RUNTIME_SECONDS'][tmp_line.index[0]] = new_data['New runtime'][i]\n"
     ]
    }
   ],
   "source": [
    "sheet_name = \"66.7% <= x < 83.3%\"\n",
    "new_file_path = \"Data-intensive-Project/traces/Mira_analysis/Data overlaps - Bucket percentiles.xlsx\"\n",
    "old_data = Change_RunTime(old_data, sheet_name, new_file_path)"
   ]
  },
  {
   "cell_type": "code",
   "execution_count": 82,
   "id": "d20fda27",
   "metadata": {},
   "outputs": [],
   "source": [
    "# Check any row not modified runtime\n",
    "for i in range(0,len(old_data['RUNTIME_SECONDS'])):\n",
    "    if int(old_data['RUNTIME_SECONDS'][i]) == 0:\n",
    "        print(f\"Error Job {old_data['JOB_NAME'][i]} RUNTIME_SECONDS is not modified\")"
   ]
  },
  {
   "cell_type": "code",
   "execution_count": 83,
   "id": "c78fa355",
   "metadata": {},
   "outputs": [],
   "source": [
    "new_trace_name = 'new_trace'\n",
    "DataFrame(old_data).to_csv(f\"{new_trace_name}.csv\", index=False, header=True, sep=';')"
   ]
  },
  {
   "cell_type": "code",
   "execution_count": null,
   "id": "2dfad3f8",
   "metadata": {},
   "outputs": [],
   "source": []
  },
  {
   "cell_type": "code",
   "execution_count": 84,
   "id": "0280f708",
   "metadata": {},
   "outputs": [],
   "source": [
    "#Split it to sub_traces\n",
    "\n",
    "def sort_job_id(data, sort_time):\n",
    "    job_tuples = []\n",
    "    length = len(data[sort_time])\n",
    "#     length = 5\n",
    "    for i in tqdm(range(0,length)):\n",
    "        job_tuples.append((i,md.date2num(dateutil.parser.parse(data[sort_time][i]))))\n",
    "#     print(job_tuples)\n",
    "    new_job_tuples = sorted(job_tuples, key=lambda time: time[1])\n",
    "#     print(new_job_tuples)\n",
    "    job_sorted_list = np.zeros([length], np.int)\n",
    "    for i in tqdm(range(0,length)):\n",
    "        job_sorted_list[i] = new_job_tuples[i][0]\n",
    "    return job_sorted_list\n",
    "\n",
    "# Sorted_start_time_list = sort_job_id(old_data,'START_TIMESTAMP')\n"
   ]
  },
  {
   "cell_type": "code",
   "execution_count": 85,
   "id": "2743967c",
   "metadata": {},
   "outputs": [],
   "source": [
    "def split_traces(old_data, start_job_idx, end_job_idx, Sorted_start_time_list):\n",
    "    job_idx = []\n",
    "    for i in range(start_job_idx,end_job_idx):\n",
    "        job_id = Sorted_start_time_list[i]\n",
    "        job_idx.append(job_id)\n",
    "    return old_data.iloc[job_idx]\n",
    "\n",
    "# new_data = split_traces(old_data, 0, 5, Sorted_start_time_list)"
   ]
  },
  {
   "cell_type": "code",
   "execution_count": 86,
   "id": "fba5d7b3",
   "metadata": {},
   "outputs": [],
   "source": [
    "# print(new_data)"
   ]
  },
  {
   "cell_type": "code",
   "execution_count": 90,
   "id": "c6e0a840",
   "metadata": {},
   "outputs": [
    {
     "name": "stderr",
     "output_type": "stream",
     "text": [
      "100%|█████████████████████████████████████████████████████████████████████████████████████████████████████████████████| 82858/82858 [00:10<00:00, 8232.28it/s]\n",
      "/var/folders/ch/qkmvbw8d40d5864w96srwgpr0000gn/T/ipykernel_37658/3049484925.py:12: DeprecationWarning: `np.int` is a deprecated alias for the builtin `int`. To silence this warning, use `int` by itself. Doing this will not modify any behavior and is safe. When replacing `np.int`, you may wish to use e.g. `np.int64` or `np.int32` to specify the precision. If you wish to review your current use, check the release note link for additional information.\n",
      "Deprecated in NumPy 1.20; for more details and guidance: https://numpy.org/devdocs/release/1.20.0-notes.html#deprecations\n",
      "  job_sorted_list = np.zeros([length], np.int)\n",
      "100%|██████████████████████████████████████████████████████████████████████████████████████████████████████████████| 82858/82858 [00:00<00:00, 2413917.07it/s]\n",
      "100%|█████████████████████████████████████████████████████████████████████████████████████████████████████████████████████████| 42/42 [00:01<00:00, 23.51it/s]\n"
     ]
    }
   ],
   "source": [
    "new_trace_name = 'new_trace'\n",
    "old_data = pd.read_csv(f\"{new_trace_name}.csv\", sep=';')\n",
    "Sorted_start_time_list = sort_job_id(old_data,'START_TIMESTAMP')\n",
    "\n",
    "\n",
    "total_jobs = len(old_data['LOCATION'])\n",
    "num_jobs_per_fig = 2000\n",
    "for i in tqdm(range(0,total_jobs,num_jobs_per_fig)):\n",
    "    start = i\n",
    "    end = i + num_jobs_per_fig\n",
    "    if(end > total_jobs):\n",
    "        end = total_jobs\n",
    "    new_data = split_traces(old_data, start, end, Sorted_start_time_list)\n",
    "    DataFrame(new_data).to_csv(f\"new_traces/{new_trace_name}_{i}_{i+num_jobs_per_fig}.csv\", index=False, header=True, sep=';')"
   ]
  },
  {
   "cell_type": "code",
   "execution_count": 91,
   "id": "31a99245",
   "metadata": {},
   "outputs": [
    {
     "name": "stdout",
     "output_type": "stream",
     "text": [
      "          JOB_NAME  COBALT_JOBID MACHINE_NAME     QUEUED_TIMESTAMP  \\\n",
      "0      389300.mira        389300         mira  2014-12-31 09:22:28   \n",
      "1      383815.mira        383815         mira  2014-12-18 17:39:38   \n",
      "2      389021.mira        389021         mira  2014-12-30 16:03:16   \n",
      "3      389333.mira        389333         mira  2014-12-31 12:28:20   \n",
      "4      383334.mira        383334         mira  2014-12-17 22:25:06   \n",
      "...            ...           ...          ...                  ...   \n",
      "82853  681149.mira        681149         mira  2015-12-24 16:17:09   \n",
      "82854  681150.mira        681150         mira  2015-12-24 16:17:22   \n",
      "82855  681379.mira        681379         mira  2015-12-25 14:42:46   \n",
      "82856  681388.mira        681388         mira  2015-12-25 14:55:11   \n",
      "82857  677742.mira        677742         mira  2015-12-20 01:31:28   \n",
      "\n",
      "       QUEUED_DATE_ID      START_TIMESTAMP  START_DATE_ID  \\\n",
      "0            20141231  2014-12-31 23:58:30       20141231   \n",
      "1            20141218  2014-12-31 18:19:20       20141231   \n",
      "2            20141230  2014-12-31 23:26:28       20141231   \n",
      "3            20141231  2014-12-31 23:32:52       20141231   \n",
      "4            20141217  2015-01-01 00:20:59       20150101   \n",
      "...               ...                  ...            ...   \n",
      "82853        20151224  2015-12-31 18:19:10       20151231   \n",
      "82854        20151224  2015-12-31 19:13:43       20151231   \n",
      "82855        20151225  2015-12-31 20:08:19       20151231   \n",
      "82856        20151225  2015-12-31 20:40:33       20151231   \n",
      "82857        20151220  2015-12-31 21:10:22       20151231   \n",
      "\n",
      "             END_TIMESTAMP  END_DATE_ID  USERNAME_GENID  ...  IS_SUBBLOCK  \\\n",
      "0      2015-01-01 00:19:27     20150101  67550677511631  ...            0   \n",
      "1      2015-01-01 00:19:57     20150101  61648062878124  ...            0   \n",
      "2      2015-01-01 00:27:14     20150101  13158054236861  ...            0   \n",
      "3      2015-01-01 00:33:27     20150101  42072163355570  ...            0   \n",
      "4      2015-01-01 00:33:46     20150101  17794675295145  ...            0   \n",
      "...                    ...          ...             ...  ...          ...   \n",
      "82853  2015-12-31 19:12:27     20151231   1658855845061  ...            0   \n",
      "82854  2015-12-31 20:06:41     20151231   1658855845061  ...            0   \n",
      "82855  2015-12-31 20:39:24     20151231  50767798326335  ...            0   \n",
      "82856  2015-12-31 21:09:10     20151231  50767798326335  ...            0   \n",
      "82857  2015-12-31 22:56:55     20151231  42345570094113  ...            0   \n",
      "\n",
      "      IS_SUBBLOCK_ONLY  IS_MULTILOCATION_ONLY  IS_MULTILOCATION_SUBBLOCK  \\\n",
      "0                    0                      0                          0   \n",
      "1                    0                      0                          0   \n",
      "2                    0                      0                          0   \n",
      "3                    0                      0                          0   \n",
      "4                    0                      0                          0   \n",
      "...                ...                    ...                        ...   \n",
      "82853                0                      0                          0   \n",
      "82854                0                      0                          0   \n",
      "82855                0                      0                          0   \n",
      "82856                0                      0                          0   \n",
      "82857                0                      0                          0   \n",
      "\n",
      "       IS_CONSECUTIVE_ONLY  IS_SINGLE_ONLY  IS_NO_TASKS  IS_OTHER  \\\n",
      "0                        0               1            0         0   \n",
      "1                        0               1            0         0   \n",
      "2                        0               1            0         0   \n",
      "3                        0               1            0         0   \n",
      "4                        0               1            0         0   \n",
      "...                    ...             ...          ...       ...   \n",
      "82853                    0               1            0         0   \n",
      "82854                    0               1            0         0   \n",
      "82855                    0               1            0         0   \n",
      "82856                    0               1            0         0   \n",
      "82857                    0               1            0         0   \n",
      "\n",
      "      OVERBURN_CORE_HOURS  IS_OVERBURN  \n",
      "0                  0.0000            0  \n",
      "1                  0.0000            0  \n",
      "2                  0.0000            0  \n",
      "3                  0.0000            0  \n",
      "4                  0.0000            0  \n",
      "...                   ...          ...  \n",
      "82853         698395.3066            1  \n",
      "82854         694244.6933            1  \n",
      "82855         271610.3111            1  \n",
      "82856         250056.2488            1  \n",
      "82857         232762.0266            1  \n",
      "\n",
      "[82858 rows x 57 columns]\n"
     ]
    }
   ],
   "source": [
    "print(old_data)"
   ]
  },
  {
   "cell_type": "code",
   "execution_count": null,
   "id": "08764b91",
   "metadata": {},
   "outputs": [],
   "source": []
  }
 ],
 "metadata": {
  "kernelspec": {
   "display_name": "Python 3 (ipykernel)",
   "language": "python",
   "name": "python3"
  },
  "language_info": {
   "codemirror_mode": {
    "name": "ipython",
    "version": 3
   },
   "file_extension": ".py",
   "mimetype": "text/x-python",
   "name": "python",
   "nbconvert_exporter": "python",
   "pygments_lexer": "ipython3",
   "version": "3.8.16"
  }
 },
 "nbformat": 4,
 "nbformat_minor": 5
}
